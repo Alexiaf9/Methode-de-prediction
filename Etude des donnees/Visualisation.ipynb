{
 "cells": [
  {
   "attachments": {},
   "cell_type": "markdown",
   "metadata": {},
   "source": [
    "# Etape 1 - Visualisation\n",
    "Dans ce notebook, on traite la première partie de la méthode, qui consiste en la visualisation, la sélection et le formattage des données que l'on va utiliser par la suite.\\\n",
    "Le module présenté ici est un outil développé en Python pour visualiser les enregistrements d'EEG (électroencéphalogramme). Il se compose d'une classe nommée Visualisation et de plusieurs méthodes.\n",
    "\n",
    "La méthode init prend trois arguments : patient, description, et D. Le paramètre patient est une chaîne de caractères qui contient le nom du patient pour lequel les données d'EEG seront visualisées. Le paramètre description est un DataFrame contenant des informations sur les enregistrements EEG. Enfin, le paramètre D est une durée spécifique d'enregistrement que l'utilisateur souhaite visualiser. Cette méthode charge les données d'EEG pour le patient spécifié, sélectionne les enregistrements EEG de durée D, et formate ces enregistrements pour une visualisation ultérieure.\n",
    "\n",
    "La méthode chargement prend en entrée les paramètres patient et description et renvoie les chemins des fichiers de données ainsi que des informations spécifiques au patient.\n",
    "\n",
    "La méthode selection prend en entrée un DataFrame (df) et une durée d'enregistrement (D) et renvoie une liste des noms d'enregistrements EEG à concaténer (name_enr_list) et une liste des noms d'enregistrements EEG qui seront utilisés pour nommer le fichier de sortie (name_fin_list).\n",
    "\n",
    "La méthode lecture prend une liste de noms d'enregistrements et une liste de fichiers de données en entrée, et renvoie une liste de DataFrames pandas contenant les données d'EEG pour chaque enregistrement de la liste.\n",
    "\n",
    "La méthode formattage prend en entrée une liste de DataFrames pandas, une liste de fichiers de données, et une DataFrame d'informations sur les enregistrements EEG. Cette méthode formate les DataFrames pour une visualisation ultérieure en ajoutant des informations sur le temps et les étiquettes.\n",
    "\n",
    "La méthode concatenation prend en entrée une liste de DataFrames pandas formatés et une DataFrame d'informations sur les enregistrements EEG, et renvoie un DataFrame pandas qui contient toutes les données d'EEG concaténées et formatées pour la visualisation.\n",
    "\n",
    "En résumé, ce module est un outil pratique pour visualiser les enregistrements d'EEG d'un patient spécifique, en sélectionnant des enregistrements d'une durée spécifique et en concaténant ces enregistrements pour une visualisation ultérieure. Cette méthode peut être utilisée dans le cadre de l'analyse des données d'EEG dans un contexte de recherche clinique ou de diagnostic médical."
   ]
  },
  {
   "cell_type": "code",
   "execution_count": 1,
   "metadata": {},
   "outputs": [],
   "source": [
    "# Modules\n",
    "import pandas as pd\n",
    "import warnings\n",
    "warnings.filterwarnings('ignore')\n",
    "from Visualisation import Visualisation\n",
    "from Affichage import Affichage"
   ]
  },
  {
   "cell_type": "code",
   "execution_count": 2,
   "metadata": {},
   "outputs": [],
   "source": [
    "# Paramètres généraux\n",
    "patients = [f'chb{i:02d}' for i in range(1, 24)]\n",
    "description = pd.read_csv('../../Data/description.csv', delimiter=';')\n",
    "D = 120"
   ]
  },
  {
   "cell_type": "code",
   "execution_count": 9,
   "metadata": {},
   "outputs": [],
   "source": [
    "# Chargement par patient\n",
    "patient_nb = 1\n",
    "patient = patients[patient_nb - 1]\n",
    "visu = Visualisation(patient, description, D)"
   ]
  },
  {
   "cell_type": "code",
   "execution_count": 10,
   "metadata": {},
   "outputs": [],
   "source": [
    "# Telechargement des csv concaténés\n",
    "visu.telechargement(patient)"
   ]
  },
  {
   "cell_type": "code",
   "execution_count": null,
   "metadata": {},
   "outputs": [],
   "source": [
    "# Téléchargement des images\n",
    "aff = Affichage(patient)\n",
    "aff.aff_all_eeg()"
   ]
  }
 ],
 "metadata": {
  "kernelspec": {
   "display_name": "Dev",
   "language": "python",
   "name": "python3"
  },
  "language_info": {
   "codemirror_mode": {
    "name": "ipython",
    "version": 3
   },
   "file_extension": ".py",
   "mimetype": "text/x-python",
   "name": "python",
   "nbconvert_exporter": "python",
   "pygments_lexer": "ipython3",
   "version": "3.10.10"
  },
  "orig_nbformat": 4
 },
 "nbformat": 4,
 "nbformat_minor": 2
}
